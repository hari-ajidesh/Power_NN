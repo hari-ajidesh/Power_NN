{
  "nbformat": 4,
  "nbformat_minor": 0,
  "metadata": {
    "colab": {
      "name": "Power_NN.ipynb",
      "provenance": [],
      "collapsed_sections": []
    },
    "kernelspec": {
      "display_name": "Python 3",
      "name": "python3"
    }
  },
  "cells": [
    {
      "cell_type": "markdown",
      "metadata": {
        "id": "jqVqT_Cxh4Ho"
      },
      "source": [
        "# Determination of  ship’s effective power by implementing neural networks.\n",
        "\n",
        "In this notebook, we have implemented neural networks to determine ship effective power at operating conditions. This notebook is a modified version of one of the applications discussed in the technical paper published in Naval Engineers Journal wherein they have have more attributes present in their dataset which isn't publicly available. Therefore, we have implemented this model with real-world data that was scraped from [Fleetmon](https://www.fleetmon.com/) which contains most of the attributes which were present in the original dataset used in the paper.\n",
        "\n",
        "Link : [Application of Artificial Intelligence Methods to Preliminary Design of Ships and Ship Performance Optimization](https://www.researchgate.net/profile/Tomasz-Abramowski/publication/259361068_Application_of_Artificial_Intelligence_Methods_to_Preliminary_Design_of_Ships_and_Ship_Performance_Optimization/links/5ac5f1d30f7e9b1067d5715f/Application-of-Artificial-Intelligence-Methods-to-Preliminary-Design-of-Ships-and-Ship-Performance-Optimization.pdf) \n"
      ]
    },
    {
      "cell_type": "markdown",
      "metadata": {
        "id": "3io6gbUrjOQY"
      },
      "source": [
        "###Imports"
      ]
    },
    {
      "cell_type": "code",
      "metadata": {
        "id": "E1gvT1aguK6t",
        "colab": {
          "base_uri": "https://localhost:8080/"
        },
        "outputId": "c08b41bc-675e-41a8-9a0b-e47e3e458db8"
      },
      "source": [
        "from google.colab import drive\n",
        "\n",
        "drive.mount('/content/gdrive')  #mouting google drive files into colab"
      ],
      "execution_count": 129,
      "outputs": [
        {
          "output_type": "stream",
          "name": "stdout",
          "text": [
            "Drive already mounted at /content/gdrive; to attempt to forcibly remount, call drive.mount(\"/content/gdrive\", force_remount=True).\n"
          ]
        }
      ]
    },
    {
      "cell_type": "code",
      "metadata": {
        "id": "y8t_EdO8jEHz",
        "colab": {
          "base_uri": "https://localhost:8080/"
        },
        "outputId": "9f80c1d8-2df7-4ed8-c0ef-ca2db947a644"
      },
      "source": [
        "%tensorflow_version 2.x  # this line is not required unless you are in a notebook\n",
        "# TensorFlow and tf.keras\n",
        "import tensorflow as tf\n",
        "from tensorflow import keras\n",
        "\n",
        "# Helper libraries\n",
        "import numpy as np\n",
        "import pandas as pd\n",
        "import matplotlib.pyplot as plt"
      ],
      "execution_count": 130,
      "outputs": [
        {
          "output_type": "stream",
          "name": "stdout",
          "text": [
            "`%tensorflow_version` only switches the major version: 1.x or 2.x.\n",
            "You set: `2.x  # this line is not required unless you are in a notebook`. This will be interpreted as: `2.x`.\n",
            "\n",
            "\n",
            "TensorFlow is already loaded. Please restart the runtime to change versions.\n"
          ]
        }
      ]
    },
    {
      "cell_type": "markdown",
      "metadata": {
        "id": "p_iFN10li6V1"
      },
      "source": [
        "###Loading Dataset"
      ]
    },
    {
      "cell_type": "code",
      "metadata": {
        "id": "eQmVmgOxjCOV",
        "colab": {
          "base_uri": "https://localhost:8080/",
          "height": 521
        },
        "outputId": "269c789e-888b-439c-871d-c8715ab6255c"
      },
      "source": [
        "df = pd.read_csv('/content/gdrive/MyDrive/semi_final_dataset.csv', encoding = 'unicode_escape')  # load dataset\n",
        "df.head() #1st five rows"
      ],
      "execution_count": 131,
      "outputs": [
        {
          "output_type": "execute_result",
          "data": {
            "text/html": [
              "<div>\n",
              "<style scoped>\n",
              "    .dataframe tbody tr th:only-of-type {\n",
              "        vertical-align: middle;\n",
              "    }\n",
              "\n",
              "    .dataframe tbody tr th {\n",
              "        vertical-align: top;\n",
              "    }\n",
              "\n",
              "    .dataframe thead th {\n",
              "        text-align: right;\n",
              "    }\n",
              "</style>\n",
              "<table border=\"1\" class=\"dataframe\">\n",
              "  <thead>\n",
              "    <tr style=\"text-align: right;\">\n",
              "      <th></th>\n",
              "      <th>Sr No</th>\n",
              "      <th>Vessel_Name</th>\n",
              "      <th>Length(m)</th>\n",
              "      <th>Width(m)</th>\n",
              "      <th>Draught Avg(m)</th>\n",
              "      <th>Speed Avg(knots)</th>\n",
              "      <th>Speed Max(knots)</th>\n",
              "      <th>Deadweight(tonnes)</th>\n",
              "      <th>Gross Tonnage(tonnes)</th>\n",
              "      <th>Total Power (kW)</th>\n",
              "      <th>Engine</th>\n",
              "      <th>Unnamed: 11</th>\n",
              "      <th>Unnamed: 12</th>\n",
              "      <th>Unnamed: 13</th>\n",
              "      <th>Unnamed: 14</th>\n",
              "      <th>Unnamed: 15</th>\n",
              "      <th>Unnamed: 16</th>\n",
              "      <th>Unnamed: 17</th>\n",
              "      <th>Unnamed: 18</th>\n",
              "      <th>Unnamed: 19</th>\n",
              "      <th>Unnamed: 20</th>\n",
              "      <th>Unnamed: 21</th>\n",
              "      <th>Unnamed: 22</th>\n",
              "      <th>Unnamed: 23</th>\n",
              "    </tr>\n",
              "  </thead>\n",
              "  <tbody>\n",
              "    <tr>\n",
              "      <th>0</th>\n",
              "      <td>0</td>\n",
              "      <td>MAREN MAERSK</td>\n",
              "      <td>399</td>\n",
              "      <td>59</td>\n",
              "      <td>12</td>\n",
              "      <td>15.1</td>\n",
              "      <td>23.2</td>\n",
              "      <td>196000</td>\n",
              "      <td>194849</td>\n",
              "      <td>23310.0</td>\n",
              "      <td>Propulsion SystemPropeller Shaft PortManufactu...</td>\n",
              "      <td>NaN</td>\n",
              "      <td>NaN</td>\n",
              "      <td>NaN</td>\n",
              "      <td>NaN</td>\n",
              "      <td>NaN</td>\n",
              "      <td>NaN</td>\n",
              "      <td>NaN</td>\n",
              "      <td>NaN</td>\n",
              "      <td>NaN</td>\n",
              "      <td>NaN</td>\n",
              "      <td>NaN</td>\n",
              "      <td>NaN</td>\n",
              "      <td>NaN</td>\n",
              "    </tr>\n",
              "    <tr>\n",
              "      <th>1</th>\n",
              "      <td>1</td>\n",
              "      <td>MARCHEN MAERSK</td>\n",
              "      <td>399</td>\n",
              "      <td>59</td>\n",
              "      <td>13.2</td>\n",
              "      <td>14.7</td>\n",
              "      <td>24.9</td>\n",
              "      <td>196000</td>\n",
              "      <td>194849</td>\n",
              "      <td>23310.0</td>\n",
              "      <td>Propulsion SystemPropeller Shaft StarboardManu...</td>\n",
              "      <td>NaN</td>\n",
              "      <td>NaN</td>\n",
              "      <td>NaN</td>\n",
              "      <td>NaN</td>\n",
              "      <td>NaN</td>\n",
              "      <td>NaN</td>\n",
              "      <td>NaN</td>\n",
              "      <td>NaN</td>\n",
              "      <td>NaN</td>\n",
              "      <td>NaN</td>\n",
              "      <td>NaN</td>\n",
              "      <td>NaN</td>\n",
              "      <td>NaN</td>\n",
              "    </tr>\n",
              "    <tr>\n",
              "      <th>2</th>\n",
              "      <td>2</td>\n",
              "      <td>MATHILDE MAERSK</td>\n",
              "      <td>399</td>\n",
              "      <td>59</td>\n",
              "      <td>13.8</td>\n",
              "      <td>15.0</td>\n",
              "      <td>24.1</td>\n",
              "      <td>196000</td>\n",
              "      <td>194849</td>\n",
              "      <td>23310.0</td>\n",
              "      <td>Propulsion SystemPropeller Shaft PortManufactu...</td>\n",
              "      <td>NaN</td>\n",
              "      <td>NaN</td>\n",
              "      <td>NaN</td>\n",
              "      <td>NaN</td>\n",
              "      <td>NaN</td>\n",
              "      <td>NaN</td>\n",
              "      <td>NaN</td>\n",
              "      <td>NaN</td>\n",
              "      <td>NaN</td>\n",
              "      <td>NaN</td>\n",
              "      <td>NaN</td>\n",
              "      <td>NaN</td>\n",
              "      <td>NaN</td>\n",
              "    </tr>\n",
              "    <tr>\n",
              "      <th>3</th>\n",
              "      <td>3</td>\n",
              "      <td>METTE MAERSK</td>\n",
              "      <td>399</td>\n",
              "      <td>59</td>\n",
              "      <td>13.9</td>\n",
              "      <td>14.9</td>\n",
              "      <td>24.2</td>\n",
              "      <td>196000</td>\n",
              "      <td>194849</td>\n",
              "      <td>23310.0</td>\n",
              "      <td>Propulsion SystemPropeller Shaft PortManufactu...</td>\n",
              "      <td>NaN</td>\n",
              "      <td>NaN</td>\n",
              "      <td>NaN</td>\n",
              "      <td>NaN</td>\n",
              "      <td>NaN</td>\n",
              "      <td>NaN</td>\n",
              "      <td>NaN</td>\n",
              "      <td>NaN</td>\n",
              "      <td>NaN</td>\n",
              "      <td>NaN</td>\n",
              "      <td>NaN</td>\n",
              "      <td>NaN</td>\n",
              "      <td>NaN</td>\n",
              "    </tr>\n",
              "    <tr>\n",
              "      <th>4</th>\n",
              "      <td>4</td>\n",
              "      <td>MARGRETHE MAERSK</td>\n",
              "      <td>399</td>\n",
              "      <td>59</td>\n",
              "      <td>13.7</td>\n",
              "      <td>14.6</td>\n",
              "      <td>24.2</td>\n",
              "      <td>194916</td>\n",
              "      <td>194849</td>\n",
              "      <td>46620.0</td>\n",
              "      <td>Machinery Overview2 oil engines driving 2 FP p...</td>\n",
              "      <td>NaN</td>\n",
              "      <td>NaN</td>\n",
              "      <td>NaN</td>\n",
              "      <td>NaN</td>\n",
              "      <td>NaN</td>\n",
              "      <td>NaN</td>\n",
              "      <td>NaN</td>\n",
              "      <td>NaN</td>\n",
              "      <td>NaN</td>\n",
              "      <td>NaN</td>\n",
              "      <td>NaN</td>\n",
              "      <td>NaN</td>\n",
              "      <td>NaN</td>\n",
              "    </tr>\n",
              "  </tbody>\n",
              "</table>\n",
              "</div>"
            ],
            "text/plain": [
              "   Sr No       Vessel_Name  Length(m)  ...  Unnamed: 21 Unnamed: 22  Unnamed: 23\n",
              "0      0      MAREN MAERSK        399  ...          NaN         NaN          NaN\n",
              "1      1    MARCHEN MAERSK        399  ...          NaN         NaN          NaN\n",
              "2      2   MATHILDE MAERSK        399  ...          NaN         NaN          NaN\n",
              "3      3      METTE MAERSK        399  ...          NaN         NaN          NaN\n",
              "4      4  MARGRETHE MAERSK        399  ...          NaN         NaN          NaN\n",
              "\n",
              "[5 rows x 24 columns]"
            ]
          },
          "metadata": {},
          "execution_count": 131
        }
      ]
    },
    {
      "cell_type": "markdown",
      "metadata": {
        "id": "AcIall2njfn1"
      },
      "source": [
        "Let's have a look at this data to see what we are working with."
      ]
    },
    {
      "cell_type": "code",
      "metadata": {
        "id": "WhLXRxOdjisI",
        "colab": {
          "base_uri": "https://localhost:8080/"
        },
        "outputId": "94d17bbf-e73f-4011-be79-439187a69e7d"
      },
      "source": [
        "df.shape  #Returning a tuple conataning dimension of df in the form (rows, columns)"
      ],
      "execution_count": 132,
      "outputs": [
        {
          "output_type": "execute_result",
          "data": {
            "text/plain": [
              "(401, 24)"
            ]
          },
          "metadata": {},
          "execution_count": 132
        }
      ]
    },
    {
      "cell_type": "code",
      "metadata": {
        "id": "HFLdWbme2_cK",
        "colab": {
          "base_uri": "https://localhost:8080/"
        },
        "outputId": "a3002217-2e83-4598-fccc-88f7d9221584"
      },
      "source": [
        "df.dtypes #returning a series with the data type of each column of df"
      ],
      "execution_count": 133,
      "outputs": [
        {
          "output_type": "execute_result",
          "data": {
            "text/plain": [
              "Sr No                      int64\n",
              "Vessel_Name               object\n",
              "Length(m)                  int64\n",
              "Width(m)                   int64\n",
              "Draught Avg(m)            object\n",
              "Speed Avg(knots)         float64\n",
              "Speed Max(knots)          object\n",
              "Deadweight(tonnes)         int64\n",
              "Gross Tonnage(tonnes)      int64\n",
              "Total Power (kW)         float64\n",
              "Engine                    object\n",
              "Unnamed: 11              float64\n",
              "Unnamed: 12              float64\n",
              "Unnamed: 13              float64\n",
              "Unnamed: 14              float64\n",
              "Unnamed: 15              float64\n",
              "Unnamed: 16              float64\n",
              "Unnamed: 17              float64\n",
              "Unnamed: 18              float64\n",
              "Unnamed: 19              float64\n",
              "Unnamed: 20              float64\n",
              "Unnamed: 21              float64\n",
              "Unnamed: 22              float64\n",
              "Unnamed: 23              float64\n",
              "dtype: object"
            ]
          },
          "metadata": {},
          "execution_count": 133
        }
      ]
    },
    {
      "cell_type": "markdown",
      "metadata": {
        "id": "lGUhY_BhL1qt"
      },
      "source": [
        "After looking at the columns we can see that the columns which start with name \"Unnamed\" aren't useful to us. Therefore we have to remove those colummns. This will be dealt with in the preprocessing section."
      ]
    },
    {
      "cell_type": "markdown",
      "metadata": {
        "id": "n_DC1b0grL1N"
      },
      "source": [
        "##Data Preprocessing\n",
        "The last step before creating our model is to *preprocess* our data. \n",
        "\n",
        "First, we only choose columns which are useful to us from the extracted dataset.\n",
        "Then we will try to create new columns which are useful for our particular case here. Finally, we will end with normalization of the whole dataset and move towards making our model.\n",
        "\n"
      ]
    },
    {
      "cell_type": "code",
      "metadata": {
        "id": "C23DDmPY4T4n",
        "colab": {
          "base_uri": "https://localhost:8080/",
          "height": 424
        },
        "outputId": "f7b51ff8-5565-4936-a675-07aa66456922"
      },
      "source": [
        "df_final = df.iloc[:,2:10]    #saving colunms from index 2 to 9 from df to df_final since column 0,1 are just serial nos and column 10 to 23 are \n",
        "df_final"
      ],
      "execution_count": 134,
      "outputs": [
        {
          "output_type": "execute_result",
          "data": {
            "text/html": [
              "<div>\n",
              "<style scoped>\n",
              "    .dataframe tbody tr th:only-of-type {\n",
              "        vertical-align: middle;\n",
              "    }\n",
              "\n",
              "    .dataframe tbody tr th {\n",
              "        vertical-align: top;\n",
              "    }\n",
              "\n",
              "    .dataframe thead th {\n",
              "        text-align: right;\n",
              "    }\n",
              "</style>\n",
              "<table border=\"1\" class=\"dataframe\">\n",
              "  <thead>\n",
              "    <tr style=\"text-align: right;\">\n",
              "      <th></th>\n",
              "      <th>Length(m)</th>\n",
              "      <th>Width(m)</th>\n",
              "      <th>Draught Avg(m)</th>\n",
              "      <th>Speed Avg(knots)</th>\n",
              "      <th>Speed Max(knots)</th>\n",
              "      <th>Deadweight(tonnes)</th>\n",
              "      <th>Gross Tonnage(tonnes)</th>\n",
              "      <th>Total Power (kW)</th>\n",
              "    </tr>\n",
              "  </thead>\n",
              "  <tbody>\n",
              "    <tr>\n",
              "      <th>0</th>\n",
              "      <td>399</td>\n",
              "      <td>59</td>\n",
              "      <td>12</td>\n",
              "      <td>15.1</td>\n",
              "      <td>23.2</td>\n",
              "      <td>196000</td>\n",
              "      <td>194849</td>\n",
              "      <td>23310.0</td>\n",
              "    </tr>\n",
              "    <tr>\n",
              "      <th>1</th>\n",
              "      <td>399</td>\n",
              "      <td>59</td>\n",
              "      <td>13.2</td>\n",
              "      <td>14.7</td>\n",
              "      <td>24.9</td>\n",
              "      <td>196000</td>\n",
              "      <td>194849</td>\n",
              "      <td>23310.0</td>\n",
              "    </tr>\n",
              "    <tr>\n",
              "      <th>2</th>\n",
              "      <td>399</td>\n",
              "      <td>59</td>\n",
              "      <td>13.8</td>\n",
              "      <td>15.0</td>\n",
              "      <td>24.1</td>\n",
              "      <td>196000</td>\n",
              "      <td>194849</td>\n",
              "      <td>23310.0</td>\n",
              "    </tr>\n",
              "    <tr>\n",
              "      <th>3</th>\n",
              "      <td>399</td>\n",
              "      <td>59</td>\n",
              "      <td>13.9</td>\n",
              "      <td>14.9</td>\n",
              "      <td>24.2</td>\n",
              "      <td>196000</td>\n",
              "      <td>194849</td>\n",
              "      <td>23310.0</td>\n",
              "    </tr>\n",
              "    <tr>\n",
              "      <th>4</th>\n",
              "      <td>399</td>\n",
              "      <td>59</td>\n",
              "      <td>13.7</td>\n",
              "      <td>14.6</td>\n",
              "      <td>24.2</td>\n",
              "      <td>194916</td>\n",
              "      <td>194849</td>\n",
              "      <td>46620.0</td>\n",
              "    </tr>\n",
              "    <tr>\n",
              "      <th>...</th>\n",
              "      <td>...</td>\n",
              "      <td>...</td>\n",
              "      <td>...</td>\n",
              "      <td>...</td>\n",
              "      <td>...</td>\n",
              "      <td>...</td>\n",
              "      <td>...</td>\n",
              "      <td>...</td>\n",
              "    </tr>\n",
              "    <tr>\n",
              "      <th>396</th>\n",
              "      <td>299</td>\n",
              "      <td>40</td>\n",
              "      <td>11.7</td>\n",
              "      <td>13.9</td>\n",
              "      <td>24.2</td>\n",
              "      <td>85823</td>\n",
              "      <td>75590</td>\n",
              "      <td>57100.0</td>\n",
              "    </tr>\n",
              "    <tr>\n",
              "      <th>397</th>\n",
              "      <td>243</td>\n",
              "      <td>32</td>\n",
              "      <td>7.6</td>\n",
              "      <td>12.8</td>\n",
              "      <td>23</td>\n",
              "      <td>42960</td>\n",
              "      <td>37579</td>\n",
              "      <td>28350.0</td>\n",
              "    </tr>\n",
              "    <tr>\n",
              "      <th>398</th>\n",
              "      <td>210</td>\n",
              "      <td>30</td>\n",
              "      <td>10.2</td>\n",
              "      <td>13.0</td>\n",
              "      <td>22.5</td>\n",
              "      <td>33411</td>\n",
              "      <td>26836</td>\n",
              "      <td>21560.0</td>\n",
              "    </tr>\n",
              "    <tr>\n",
              "      <th>399</th>\n",
              "      <td>202</td>\n",
              "      <td>31</td>\n",
              "      <td>9.3</td>\n",
              "      <td>14.0</td>\n",
              "      <td>21</td>\n",
              "      <td>31160</td>\n",
              "      <td>30567</td>\n",
              "      <td>16260.0</td>\n",
              "    </tr>\n",
              "    <tr>\n",
              "      <th>400</th>\n",
              "      <td>139</td>\n",
              "      <td>20</td>\n",
              "      <td>7.2</td>\n",
              "      <td>11.1</td>\n",
              "      <td>18.2</td>\n",
              "      <td>11200</td>\n",
              "      <td>8766</td>\n",
              "      <td>NaN</td>\n",
              "    </tr>\n",
              "  </tbody>\n",
              "</table>\n",
              "<p>401 rows × 8 columns</p>\n",
              "</div>"
            ],
            "text/plain": [
              "     Length(m)  Width(m)  ... Gross Tonnage(tonnes)  Total Power (kW)\n",
              "0          399        59  ...                194849           23310.0\n",
              "1          399        59  ...                194849           23310.0\n",
              "2          399        59  ...                194849           23310.0\n",
              "3          399        59  ...                194849           23310.0\n",
              "4          399        59  ...                194849           46620.0\n",
              "..         ...       ...  ...                   ...               ...\n",
              "396        299        40  ...                 75590           57100.0\n",
              "397        243        32  ...                 37579           28350.0\n",
              "398        210        30  ...                 26836           21560.0\n",
              "399        202        31  ...                 30567           16260.0\n",
              "400        139        20  ...                  8766               NaN\n",
              "\n",
              "[401 rows x 8 columns]"
            ]
          },
          "metadata": {},
          "execution_count": 134
        }
      ]
    },
    {
      "cell_type": "markdown",
      "metadata": {
        "id": "qhhn3SYLMhkA"
      },
      "source": [
        "We have to remove the rows with NaN value"
      ]
    },
    {
      "cell_type": "code",
      "metadata": {
        "id": "-Go9qQHex-yM",
        "colab": {
          "base_uri": "https://localhost:8080/",
          "height": 206
        },
        "outputId": "b428b875-2dd6-45c8-a502-be501b575f41"
      },
      "source": [
        "df_final.dropna(axis=0,inplace=True) #updating df_final by droping rows which contain missing values \n",
        "df_final.head()"
      ],
      "execution_count": 135,
      "outputs": [
        {
          "output_type": "execute_result",
          "data": {
            "text/html": [
              "<div>\n",
              "<style scoped>\n",
              "    .dataframe tbody tr th:only-of-type {\n",
              "        vertical-align: middle;\n",
              "    }\n",
              "\n",
              "    .dataframe tbody tr th {\n",
              "        vertical-align: top;\n",
              "    }\n",
              "\n",
              "    .dataframe thead th {\n",
              "        text-align: right;\n",
              "    }\n",
              "</style>\n",
              "<table border=\"1\" class=\"dataframe\">\n",
              "  <thead>\n",
              "    <tr style=\"text-align: right;\">\n",
              "      <th></th>\n",
              "      <th>Length(m)</th>\n",
              "      <th>Width(m)</th>\n",
              "      <th>Draught Avg(m)</th>\n",
              "      <th>Speed Avg(knots)</th>\n",
              "      <th>Speed Max(knots)</th>\n",
              "      <th>Deadweight(tonnes)</th>\n",
              "      <th>Gross Tonnage(tonnes)</th>\n",
              "      <th>Total Power (kW)</th>\n",
              "    </tr>\n",
              "  </thead>\n",
              "  <tbody>\n",
              "    <tr>\n",
              "      <th>0</th>\n",
              "      <td>399</td>\n",
              "      <td>59</td>\n",
              "      <td>12</td>\n",
              "      <td>15.1</td>\n",
              "      <td>23.2</td>\n",
              "      <td>196000</td>\n",
              "      <td>194849</td>\n",
              "      <td>23310.0</td>\n",
              "    </tr>\n",
              "    <tr>\n",
              "      <th>1</th>\n",
              "      <td>399</td>\n",
              "      <td>59</td>\n",
              "      <td>13.2</td>\n",
              "      <td>14.7</td>\n",
              "      <td>24.9</td>\n",
              "      <td>196000</td>\n",
              "      <td>194849</td>\n",
              "      <td>23310.0</td>\n",
              "    </tr>\n",
              "    <tr>\n",
              "      <th>2</th>\n",
              "      <td>399</td>\n",
              "      <td>59</td>\n",
              "      <td>13.8</td>\n",
              "      <td>15.0</td>\n",
              "      <td>24.1</td>\n",
              "      <td>196000</td>\n",
              "      <td>194849</td>\n",
              "      <td>23310.0</td>\n",
              "    </tr>\n",
              "    <tr>\n",
              "      <th>3</th>\n",
              "      <td>399</td>\n",
              "      <td>59</td>\n",
              "      <td>13.9</td>\n",
              "      <td>14.9</td>\n",
              "      <td>24.2</td>\n",
              "      <td>196000</td>\n",
              "      <td>194849</td>\n",
              "      <td>23310.0</td>\n",
              "    </tr>\n",
              "    <tr>\n",
              "      <th>4</th>\n",
              "      <td>399</td>\n",
              "      <td>59</td>\n",
              "      <td>13.7</td>\n",
              "      <td>14.6</td>\n",
              "      <td>24.2</td>\n",
              "      <td>194916</td>\n",
              "      <td>194849</td>\n",
              "      <td>46620.0</td>\n",
              "    </tr>\n",
              "  </tbody>\n",
              "</table>\n",
              "</div>"
            ],
            "text/plain": [
              "   Length(m)  Width(m)  ... Gross Tonnage(tonnes)  Total Power (kW)\n",
              "0        399        59  ...                194849           23310.0\n",
              "1        399        59  ...                194849           23310.0\n",
              "2        399        59  ...                194849           23310.0\n",
              "3        399        59  ...                194849           23310.0\n",
              "4        399        59  ...                194849           46620.0\n",
              "\n",
              "[5 rows x 8 columns]"
            ]
          },
          "metadata": {},
          "execution_count": 135
        }
      ]
    },
    {
      "cell_type": "code",
      "metadata": {
        "id": "hbLtTyBk5WeY",
        "colab": {
          "base_uri": "https://localhost:8080/"
        },
        "outputId": "e518ce90-5a69-4e7b-8cb8-fa561eb4e0da"
      },
      "source": [
        "df_final.shape  #Returning a tuple conataning dimension of df_final in the form (rows, columns)"
      ],
      "execution_count": 136,
      "outputs": [
        {
          "output_type": "execute_result",
          "data": {
            "text/plain": [
              "(356, 8)"
            ]
          },
          "metadata": {},
          "execution_count": 136
        }
      ]
    },
    {
      "cell_type": "code",
      "metadata": {
        "id": "HEsZek0L1QP1",
        "colab": {
          "base_uri": "https://localhost:8080/"
        },
        "outputId": "15a3ca47-1081-43cd-da87-c0b376eaa94e"
      },
      "source": [
        "df_final.dtypes #returning a series with the data type of each column of df_final"
      ],
      "execution_count": 137,
      "outputs": [
        {
          "output_type": "execute_result",
          "data": {
            "text/plain": [
              "Length(m)                  int64\n",
              "Width(m)                   int64\n",
              "Draught Avg(m)            object\n",
              "Speed Avg(knots)         float64\n",
              "Speed Max(knots)          object\n",
              "Deadweight(tonnes)         int64\n",
              "Gross Tonnage(tonnes)      int64\n",
              "Total Power (kW)         float64\n",
              "dtype: object"
            ]
          },
          "metadata": {},
          "execution_count": 137
        }
      ]
    },
    {
      "cell_type": "markdown",
      "metadata": {
        "id": "NjNrgE2Y3Pk9"
      },
      "source": [
        "After looking into the type of various columns, we realize that columns such as \n",
        "*Draught Avg(m)* and *Speed Max(knots)* should be float values instead of object values. Therefore, we convert them to float values."
      ]
    },
    {
      "cell_type": "code",
      "metadata": {
        "id": "a3b4HAnl1ujB",
        "colab": {
          "base_uri": "https://localhost:8080/"
        },
        "outputId": "2a76b28c-b51d-4cf0-bf7b-e65fc38a142c"
      },
      "source": [
        "cols = ['Draught Avg(m)','Speed Max(knots)']    \n",
        "df_final[cols] = df_final[cols].apply(pd.to_numeric, errors='coerce') #Converting to a numeric type, errors='coerce' will covert invalid parsing into NaN\n",
        "df_final.dtypes #returning a series with the data type of each column of df_final"
      ],
      "execution_count": 138,
      "outputs": [
        {
          "output_type": "execute_result",
          "data": {
            "text/plain": [
              "Length(m)                  int64\n",
              "Width(m)                   int64\n",
              "Draught Avg(m)           float64\n",
              "Speed Avg(knots)         float64\n",
              "Speed Max(knots)         float64\n",
              "Deadweight(tonnes)         int64\n",
              "Gross Tonnage(tonnes)      int64\n",
              "Total Power (kW)         float64\n",
              "dtype: object"
            ]
          },
          "metadata": {},
          "execution_count": 138
        }
      ]
    },
    {
      "cell_type": "markdown",
      "metadata": {
        "id": "aBPDV5OANIpq"
      },
      "source": [
        "Now we proceed to create new columns which are not derived from the heatmap of the dataset but from the knowledge of the problem that we are trying to solve. "
      ]
    },
    {
      "cell_type": "code",
      "metadata": {
        "id": "L-iWfk4bynZP",
        "colab": {
          "base_uri": "https://localhost:8080/",
          "height": 206
        },
        "outputId": "d225f13a-8bd1-495c-d01b-b435ff4f59b6"
      },
      "source": [
        "df_final['Froude Number'] = df_final['Speed Avg(knots)']/((9.81*df_final['Length(m)'])**(1/2))  #adding new column \"Froude Number\" using \"speed avg(knots)\" column to df_final\n",
        "df_final['L/B'] = df_final['Length(m)']/(df_final['Width(m)'])  #adding new column \"L/B\" using \"Length(m)\" and \"Width(m)\" column to df_final\n",
        "df_final['B/T'] = df_final['Width(m)']/(df_final['Draught Avg(m)']) #adding new column \"L/B\" using \"Width(m\" and \"Draught Avg(m)\" column to df_final\n",
        "df_final.head()"
      ],
      "execution_count": 139,
      "outputs": [
        {
          "output_type": "execute_result",
          "data": {
            "text/html": [
              "<div>\n",
              "<style scoped>\n",
              "    .dataframe tbody tr th:only-of-type {\n",
              "        vertical-align: middle;\n",
              "    }\n",
              "\n",
              "    .dataframe tbody tr th {\n",
              "        vertical-align: top;\n",
              "    }\n",
              "\n",
              "    .dataframe thead th {\n",
              "        text-align: right;\n",
              "    }\n",
              "</style>\n",
              "<table border=\"1\" class=\"dataframe\">\n",
              "  <thead>\n",
              "    <tr style=\"text-align: right;\">\n",
              "      <th></th>\n",
              "      <th>Length(m)</th>\n",
              "      <th>Width(m)</th>\n",
              "      <th>Draught Avg(m)</th>\n",
              "      <th>Speed Avg(knots)</th>\n",
              "      <th>Speed Max(knots)</th>\n",
              "      <th>Deadweight(tonnes)</th>\n",
              "      <th>Gross Tonnage(tonnes)</th>\n",
              "      <th>Total Power (kW)</th>\n",
              "      <th>Froude Number</th>\n",
              "      <th>L/B</th>\n",
              "      <th>B/T</th>\n",
              "    </tr>\n",
              "  </thead>\n",
              "  <tbody>\n",
              "    <tr>\n",
              "      <th>0</th>\n",
              "      <td>399</td>\n",
              "      <td>59</td>\n",
              "      <td>12.0</td>\n",
              "      <td>15.1</td>\n",
              "      <td>23.2</td>\n",
              "      <td>196000</td>\n",
              "      <td>194849</td>\n",
              "      <td>23310.0</td>\n",
              "      <td>0.241355</td>\n",
              "      <td>6.762712</td>\n",
              "      <td>4.916667</td>\n",
              "    </tr>\n",
              "    <tr>\n",
              "      <th>1</th>\n",
              "      <td>399</td>\n",
              "      <td>59</td>\n",
              "      <td>13.2</td>\n",
              "      <td>14.7</td>\n",
              "      <td>24.9</td>\n",
              "      <td>196000</td>\n",
              "      <td>194849</td>\n",
              "      <td>23310.0</td>\n",
              "      <td>0.234961</td>\n",
              "      <td>6.762712</td>\n",
              "      <td>4.469697</td>\n",
              "    </tr>\n",
              "    <tr>\n",
              "      <th>2</th>\n",
              "      <td>399</td>\n",
              "      <td>59</td>\n",
              "      <td>13.8</td>\n",
              "      <td>15.0</td>\n",
              "      <td>24.1</td>\n",
              "      <td>196000</td>\n",
              "      <td>194849</td>\n",
              "      <td>23310.0</td>\n",
              "      <td>0.239756</td>\n",
              "      <td>6.762712</td>\n",
              "      <td>4.275362</td>\n",
              "    </tr>\n",
              "    <tr>\n",
              "      <th>3</th>\n",
              "      <td>399</td>\n",
              "      <td>59</td>\n",
              "      <td>13.9</td>\n",
              "      <td>14.9</td>\n",
              "      <td>24.2</td>\n",
              "      <td>196000</td>\n",
              "      <td>194849</td>\n",
              "      <td>23310.0</td>\n",
              "      <td>0.238158</td>\n",
              "      <td>6.762712</td>\n",
              "      <td>4.244604</td>\n",
              "    </tr>\n",
              "    <tr>\n",
              "      <th>4</th>\n",
              "      <td>399</td>\n",
              "      <td>59</td>\n",
              "      <td>13.7</td>\n",
              "      <td>14.6</td>\n",
              "      <td>24.2</td>\n",
              "      <td>194916</td>\n",
              "      <td>194849</td>\n",
              "      <td>46620.0</td>\n",
              "      <td>0.233363</td>\n",
              "      <td>6.762712</td>\n",
              "      <td>4.306569</td>\n",
              "    </tr>\n",
              "  </tbody>\n",
              "</table>\n",
              "</div>"
            ],
            "text/plain": [
              "   Length(m)  Width(m)  Draught Avg(m)  ...  Froude Number       L/B       B/T\n",
              "0        399        59            12.0  ...       0.241355  6.762712  4.916667\n",
              "1        399        59            13.2  ...       0.234961  6.762712  4.469697\n",
              "2        399        59            13.8  ...       0.239756  6.762712  4.275362\n",
              "3        399        59            13.9  ...       0.238158  6.762712  4.244604\n",
              "4        399        59            13.7  ...       0.233363  6.762712  4.306569\n",
              "\n",
              "[5 rows x 11 columns]"
            ]
          },
          "metadata": {},
          "execution_count": 139
        }
      ]
    },
    {
      "cell_type": "code",
      "metadata": {
        "id": "eu9wbQhq6bdy",
        "colab": {
          "base_uri": "https://localhost:8080/"
        },
        "outputId": "fc0c3f5e-a336-4034-963b-3725c91d5c2a"
      },
      "source": [
        "df_final.shape  #Returning a tuple conataning dimension of df_final in the form (rows, columns)"
      ],
      "execution_count": 140,
      "outputs": [
        {
          "output_type": "execute_result",
          "data": {
            "text/plain": [
              "(356, 11)"
            ]
          },
          "metadata": {},
          "execution_count": 140
        }
      ]
    },
    {
      "cell_type": "markdown",
      "metadata": {
        "id": "NgX_CqNyNbHH"
      },
      "source": [
        "Finally, we move our target column **Total Power (kW)** to the end of the dataset"
      ]
    },
    {
      "cell_type": "code",
      "metadata": {
        "id": "jIx2eTWQdOBp",
        "colab": {
          "base_uri": "https://localhost:8080/",
          "height": 206
        },
        "outputId": "10553bfa-f375-43b6-c07f-79af2b47b615"
      },
      "source": [
        "column_to_move = df_final.pop('Total Power (kW)') #deleting the column \"Total Power (kW)\" from df_final and saving it in column_to_move\n",
        "\n",
        "\n",
        "# insert column with insert(location, column_name, column_value)\n",
        "\n",
        "df_final.insert(df_final.shape[1], 'Total Power (kW)', column_to_move)  #inserting column \"Total Power (kW)\" at the end of df_final\n",
        "df_final.head()"
      ],
      "execution_count": 141,
      "outputs": [
        {
          "output_type": "execute_result",
          "data": {
            "text/html": [
              "<div>\n",
              "<style scoped>\n",
              "    .dataframe tbody tr th:only-of-type {\n",
              "        vertical-align: middle;\n",
              "    }\n",
              "\n",
              "    .dataframe tbody tr th {\n",
              "        vertical-align: top;\n",
              "    }\n",
              "\n",
              "    .dataframe thead th {\n",
              "        text-align: right;\n",
              "    }\n",
              "</style>\n",
              "<table border=\"1\" class=\"dataframe\">\n",
              "  <thead>\n",
              "    <tr style=\"text-align: right;\">\n",
              "      <th></th>\n",
              "      <th>Length(m)</th>\n",
              "      <th>Width(m)</th>\n",
              "      <th>Draught Avg(m)</th>\n",
              "      <th>Speed Avg(knots)</th>\n",
              "      <th>Speed Max(knots)</th>\n",
              "      <th>Deadweight(tonnes)</th>\n",
              "      <th>Gross Tonnage(tonnes)</th>\n",
              "      <th>Froude Number</th>\n",
              "      <th>L/B</th>\n",
              "      <th>B/T</th>\n",
              "      <th>Total Power (kW)</th>\n",
              "    </tr>\n",
              "  </thead>\n",
              "  <tbody>\n",
              "    <tr>\n",
              "      <th>0</th>\n",
              "      <td>399</td>\n",
              "      <td>59</td>\n",
              "      <td>12.0</td>\n",
              "      <td>15.1</td>\n",
              "      <td>23.2</td>\n",
              "      <td>196000</td>\n",
              "      <td>194849</td>\n",
              "      <td>0.241355</td>\n",
              "      <td>6.762712</td>\n",
              "      <td>4.916667</td>\n",
              "      <td>23310.0</td>\n",
              "    </tr>\n",
              "    <tr>\n",
              "      <th>1</th>\n",
              "      <td>399</td>\n",
              "      <td>59</td>\n",
              "      <td>13.2</td>\n",
              "      <td>14.7</td>\n",
              "      <td>24.9</td>\n",
              "      <td>196000</td>\n",
              "      <td>194849</td>\n",
              "      <td>0.234961</td>\n",
              "      <td>6.762712</td>\n",
              "      <td>4.469697</td>\n",
              "      <td>23310.0</td>\n",
              "    </tr>\n",
              "    <tr>\n",
              "      <th>2</th>\n",
              "      <td>399</td>\n",
              "      <td>59</td>\n",
              "      <td>13.8</td>\n",
              "      <td>15.0</td>\n",
              "      <td>24.1</td>\n",
              "      <td>196000</td>\n",
              "      <td>194849</td>\n",
              "      <td>0.239756</td>\n",
              "      <td>6.762712</td>\n",
              "      <td>4.275362</td>\n",
              "      <td>23310.0</td>\n",
              "    </tr>\n",
              "    <tr>\n",
              "      <th>3</th>\n",
              "      <td>399</td>\n",
              "      <td>59</td>\n",
              "      <td>13.9</td>\n",
              "      <td>14.9</td>\n",
              "      <td>24.2</td>\n",
              "      <td>196000</td>\n",
              "      <td>194849</td>\n",
              "      <td>0.238158</td>\n",
              "      <td>6.762712</td>\n",
              "      <td>4.244604</td>\n",
              "      <td>23310.0</td>\n",
              "    </tr>\n",
              "    <tr>\n",
              "      <th>4</th>\n",
              "      <td>399</td>\n",
              "      <td>59</td>\n",
              "      <td>13.7</td>\n",
              "      <td>14.6</td>\n",
              "      <td>24.2</td>\n",
              "      <td>194916</td>\n",
              "      <td>194849</td>\n",
              "      <td>0.233363</td>\n",
              "      <td>6.762712</td>\n",
              "      <td>4.306569</td>\n",
              "      <td>46620.0</td>\n",
              "    </tr>\n",
              "  </tbody>\n",
              "</table>\n",
              "</div>"
            ],
            "text/plain": [
              "   Length(m)  Width(m)  Draught Avg(m)  ...       L/B       B/T  Total Power (kW)\n",
              "0        399        59            12.0  ...  6.762712  4.916667           23310.0\n",
              "1        399        59            13.2  ...  6.762712  4.469697           23310.0\n",
              "2        399        59            13.8  ...  6.762712  4.275362           23310.0\n",
              "3        399        59            13.9  ...  6.762712  4.244604           23310.0\n",
              "4        399        59            13.7  ...  6.762712  4.306569           46620.0\n",
              "\n",
              "[5 rows x 11 columns]"
            ]
          },
          "metadata": {},
          "execution_count": 141
        }
      ]
    },
    {
      "cell_type": "markdown",
      "metadata": {
        "id": "m51ALb-9Xt6v"
      },
      "source": [
        "### Clean the data\n",
        "\n",
        "The dataset contains a few unknown values: Now we remove those entries \n",
        "before proceeding towards normalization."
      ]
    },
    {
      "cell_type": "code",
      "metadata": {
        "id": "yG2sgaLrZV5T",
        "colab": {
          "base_uri": "https://localhost:8080/"
        },
        "outputId": "669b739d-64d4-4ea4-fe40-92c27c0b0c11"
      },
      "source": [
        "df_final.isnull().sum().sum() #total number of \"NaN\" in df_final"
      ],
      "execution_count": 142,
      "outputs": [
        {
          "output_type": "execute_result",
          "data": {
            "text/plain": [
              "4"
            ]
          },
          "metadata": {},
          "execution_count": 142
        }
      ]
    },
    {
      "cell_type": "code",
      "metadata": {
        "id": "Lfs7dyAAZs_x"
      },
      "source": [
        "df_final.dropna(axis=0,inplace=True)   #updating df_final by droping rows which contain missing values"
      ],
      "execution_count": 143,
      "outputs": []
    },
    {
      "cell_type": "code",
      "metadata": {
        "id": "Lc6ncsT5ZwgL",
        "colab": {
          "base_uri": "https://localhost:8080/"
        },
        "outputId": "b648299f-cfb0-42ca-b0d9-aceb810f4961"
      },
      "source": [
        "df_final.isnull().sum().sum() #total number of \"NaN\" in df_final"
      ],
      "execution_count": 144,
      "outputs": [
        {
          "output_type": "execute_result",
          "data": {
            "text/plain": [
              "0"
            ]
          },
          "metadata": {},
          "execution_count": 144
        }
      ]
    },
    {
      "cell_type": "markdown",
      "metadata": {
        "id": "fWia4_K1N6xu"
      },
      "source": [
        "Finally we store our training variables and target variable in *train_labels* and *test_label* respectively.\n"
      ]
    },
    {
      "cell_type": "code",
      "metadata": {
        "id": "9YFEuvaAe2yu",
        "colab": {
          "base_uri": "https://localhost:8080/"
        },
        "outputId": "fc7446aa-1a1f-4f5c-de9c-ae822d21084b"
      },
      "source": [
        "train_labels = df_final.columns[:-1]  #saving all the column except \"Total Power\" column in train_labels\n",
        "train_labels"
      ],
      "execution_count": 145,
      "outputs": [
        {
          "output_type": "execute_result",
          "data": {
            "text/plain": [
              "Index(['Length(m)', 'Width(m)', 'Draught Avg(m)', 'Speed Avg(knots)',\n",
              "       'Speed Max(knots)', 'Deadweight(tonnes)', 'Gross Tonnage(tonnes)',\n",
              "       'Froude Number', 'L/B', 'B/T'],\n",
              "      dtype='object')"
            ]
          },
          "metadata": {},
          "execution_count": 145
        }
      ]
    },
    {
      "cell_type": "code",
      "metadata": {
        "id": "Xy61z_-ufCYE",
        "colab": {
          "base_uri": "https://localhost:8080/",
          "height": 36
        },
        "outputId": "06b1de39-c5d6-479f-f9a6-b5706573e0a4"
      },
      "source": [
        "test_label = df_final.columns[-1]   #saving  column \"Total Power\" column in test_labels\n",
        "test_label"
      ],
      "execution_count": 146,
      "outputs": [
        {
          "output_type": "execute_result",
          "data": {
            "application/vnd.google.colaboratory.intrinsic+json": {
              "type": "string"
            },
            "text/plain": [
              "'Total Power (kW)'"
            ]
          },
          "metadata": {},
          "execution_count": 146
        }
      ]
    },
    {
      "cell_type": "code",
      "metadata": {
        "id": "I8OCxfQ-j3ro",
        "colab": {
          "base_uri": "https://localhost:8080/",
          "height": 394
        },
        "outputId": "35c2281f-dae0-434e-e82c-53c73f0c686c"
      },
      "source": [
        "df_final.describe().transpose() #"
      ],
      "execution_count": 147,
      "outputs": [
        {
          "output_type": "execute_result",
          "data": {
            "text/html": [
              "<div>\n",
              "<style scoped>\n",
              "    .dataframe tbody tr th:only-of-type {\n",
              "        vertical-align: middle;\n",
              "    }\n",
              "\n",
              "    .dataframe tbody tr th {\n",
              "        vertical-align: top;\n",
              "    }\n",
              "\n",
              "    .dataframe thead th {\n",
              "        text-align: right;\n",
              "    }\n",
              "</style>\n",
              "<table border=\"1\" class=\"dataframe\">\n",
              "  <thead>\n",
              "    <tr style=\"text-align: right;\">\n",
              "      <th></th>\n",
              "      <th>count</th>\n",
              "      <th>mean</th>\n",
              "      <th>std</th>\n",
              "      <th>min</th>\n",
              "      <th>25%</th>\n",
              "      <th>50%</th>\n",
              "      <th>75%</th>\n",
              "      <th>max</th>\n",
              "    </tr>\n",
              "  </thead>\n",
              "  <tbody>\n",
              "    <tr>\n",
              "      <th>Length(m)</th>\n",
              "      <td>354.0</td>\n",
              "      <td>304.163842</td>\n",
              "      <td>65.516308</td>\n",
              "      <td>100.000000</td>\n",
              "      <td>274.000000</td>\n",
              "      <td>304.500000</td>\n",
              "      <td>366.000000</td>\n",
              "      <td>399.000000</td>\n",
              "    </tr>\n",
              "    <tr>\n",
              "      <th>Width(m)</th>\n",
              "      <td>354.0</td>\n",
              "      <td>41.220339</td>\n",
              "      <td>8.577395</td>\n",
              "      <td>20.000000</td>\n",
              "      <td>32.000000</td>\n",
              "      <td>42.000000</td>\n",
              "      <td>48.000000</td>\n",
              "      <td>59.000000</td>\n",
              "    </tr>\n",
              "    <tr>\n",
              "      <th>Draught Avg(m)</th>\n",
              "      <td>354.0</td>\n",
              "      <td>11.395198</td>\n",
              "      <td>1.830820</td>\n",
              "      <td>2.000000</td>\n",
              "      <td>10.300000</td>\n",
              "      <td>11.700000</td>\n",
              "      <td>12.800000</td>\n",
              "      <td>14.800000</td>\n",
              "    </tr>\n",
              "    <tr>\n",
              "      <th>Speed Avg(knots)</th>\n",
              "      <td>354.0</td>\n",
              "      <td>13.396045</td>\n",
              "      <td>1.061447</td>\n",
              "      <td>8.400000</td>\n",
              "      <td>12.900000</td>\n",
              "      <td>13.500000</td>\n",
              "      <td>14.000000</td>\n",
              "      <td>16.600000</td>\n",
              "    </tr>\n",
              "    <tr>\n",
              "      <th>Speed Max(knots)</th>\n",
              "      <td>354.0</td>\n",
              "      <td>23.999435</td>\n",
              "      <td>1.974770</td>\n",
              "      <td>15.600000</td>\n",
              "      <td>23.300000</td>\n",
              "      <td>24.200000</td>\n",
              "      <td>25.100000</td>\n",
              "      <td>29.700000</td>\n",
              "    </tr>\n",
              "    <tr>\n",
              "      <th>Deadweight(tonnes)</th>\n",
              "      <td>354.0</td>\n",
              "      <td>95539.632768</td>\n",
              "      <td>46898.937288</td>\n",
              "      <td>10600.000000</td>\n",
              "      <td>60604.000000</td>\n",
              "      <td>93620.500000</td>\n",
              "      <td>140969.250000</td>\n",
              "      <td>196000.000000</td>\n",
              "    </tr>\n",
              "    <tr>\n",
              "      <th>Gross Tonnage(tonnes)</th>\n",
              "      <td>354.0</td>\n",
              "      <td>90841.183616</td>\n",
              "      <td>48440.130304</td>\n",
              "      <td>8656.000000</td>\n",
              "      <td>52699.000000</td>\n",
              "      <td>87757.500000</td>\n",
              "      <td>141003.000000</td>\n",
              "      <td>215860.000000</td>\n",
              "    </tr>\n",
              "    <tr>\n",
              "      <th>Froude Number</th>\n",
              "      <td>354.0</td>\n",
              "      <td>0.249657</td>\n",
              "      <td>0.032838</td>\n",
              "      <td>0.198534</td>\n",
              "      <td>0.230894</td>\n",
              "      <td>0.241329</td>\n",
              "      <td>0.256520</td>\n",
              "      <td>0.488491</td>\n",
              "    </tr>\n",
              "    <tr>\n",
              "      <th>L/B</th>\n",
              "      <td>354.0</td>\n",
              "      <td>7.393392</td>\n",
              "      <td>0.768162</td>\n",
              "      <td>1.785714</td>\n",
              "      <td>7.000000</td>\n",
              "      <td>7.345788</td>\n",
              "      <td>7.711111</td>\n",
              "      <td>9.218750</td>\n",
              "    </tr>\n",
              "    <tr>\n",
              "      <th>B/T</th>\n",
              "      <td>354.0</td>\n",
              "      <td>3.675010</td>\n",
              "      <td>1.470971</td>\n",
              "      <td>2.352941</td>\n",
              "      <td>3.293688</td>\n",
              "      <td>3.597753</td>\n",
              "      <td>3.907428</td>\n",
              "      <td>29.500000</td>\n",
              "    </tr>\n",
              "    <tr>\n",
              "      <th>Total Power (kW)</th>\n",
              "      <td>354.0</td>\n",
              "      <td>51550.627802</td>\n",
              "      <td>20806.816101</td>\n",
              "      <td>5920.000000</td>\n",
              "      <td>36560.000000</td>\n",
              "      <td>55898.100000</td>\n",
              "      <td>68640.000000</td>\n",
              "      <td>177771.000000</td>\n",
              "    </tr>\n",
              "  </tbody>\n",
              "</table>\n",
              "</div>"
            ],
            "text/plain": [
              "                       count          mean  ...            75%            max\n",
              "Length(m)              354.0    304.163842  ...     366.000000     399.000000\n",
              "Width(m)               354.0     41.220339  ...      48.000000      59.000000\n",
              "Draught Avg(m)         354.0     11.395198  ...      12.800000      14.800000\n",
              "Speed Avg(knots)       354.0     13.396045  ...      14.000000      16.600000\n",
              "Speed Max(knots)       354.0     23.999435  ...      25.100000      29.700000\n",
              "Deadweight(tonnes)     354.0  95539.632768  ...  140969.250000  196000.000000\n",
              "Gross Tonnage(tonnes)  354.0  90841.183616  ...  141003.000000  215860.000000\n",
              "Froude Number          354.0      0.249657  ...       0.256520       0.488491\n",
              "L/B                    354.0      7.393392  ...       7.711111       9.218750\n",
              "B/T                    354.0      3.675010  ...       3.907428      29.500000\n",
              "Total Power (kW)       354.0  51550.627802  ...   68640.000000  177771.000000\n",
              "\n",
              "[11 rows x 8 columns]"
            ]
          },
          "metadata": {},
          "execution_count": 147
        }
      ]
    },
    {
      "cell_type": "markdown",
      "metadata": {
        "id": "N8Y0AQ5NXk8f"
      },
      "source": [
        "### Split the data into training and test sets\n",
        "\n",
        "Now, split the dataset into a training set and a test set. You will use the test set in the final evaluation of your models."
      ]
    },
    {
      "cell_type": "code",
      "metadata": {
        "id": "9wFct1TUBOlD"
      },
      "source": [
        "from sklearn.model_selection import train_test_split\n",
        "X_train, X_test, y_train, y_test = train_test_split( df_final[train_labels], df_final[test_label], test_size=0.2, random_state=42)\n",
        "#saving random  20% of train_label to X_test\n",
        "#saving random  20% of test_label to Y_test\n",
        "#saving random  80% of train_label to X_train\n",
        "#saving random  80% of test_label to Y_train"
      ],
      "execution_count": 148,
      "outputs": []
    },
    {
      "cell_type": "code",
      "metadata": {
        "id": "9QKpfVhClEAZ",
        "colab": {
          "base_uri": "https://localhost:8080/"
        },
        "outputId": "a88b8251-b003-4486-bacb-ab3b6ff0d82f"
      },
      "source": [
        "X_train.shape #Returning a tuple conataning dimension of X_train in the form (rows, columns)"
      ],
      "execution_count": 149,
      "outputs": [
        {
          "output_type": "execute_result",
          "data": {
            "text/plain": [
              "(283, 10)"
            ]
          },
          "metadata": {},
          "execution_count": 149
        }
      ]
    },
    {
      "cell_type": "markdown",
      "metadata": {
        "id": "Buzfcv_KOrCn"
      },
      "source": [
        "## Data Normalization\n",
        "\n",
        "Now we proceed to define a normalization layer which will normalize our data while we are running the model and not normalize the dataset directly.\n",
        "\n",
        "The `tf.keras.layers.Normalization` is a clean and simple way to add feature normalization into your model.\n",
        "\n",
        "The first step is to create the layer:"
      ]
    },
    {
      "cell_type": "code",
      "metadata": {
        "id": "StQmdAZGD02-"
      },
      "source": [
        "normalizer = tf.keras.layers.Normalization(axis=-1)"
      ],
      "execution_count": 150,
      "outputs": []
    },
    {
      "cell_type": "markdown",
      "metadata": {
        "id": "vaZjDVdYWkMs"
      },
      "source": [
        "Then, fit the state of the preprocessing layer to the data by calling `Normalization.adapt`:"
      ]
    },
    {
      "cell_type": "code",
      "metadata": {
        "id": "_C-p6_2OWpUQ"
      },
      "source": [
        "normalizer.adapt(df_final[train_labels])"
      ],
      "execution_count": 151,
      "outputs": []
    },
    {
      "cell_type": "markdown",
      "metadata": {
        "id": "ks_ehgUjWrVN"
      },
      "source": [
        "Calculating the mean:"
      ]
    },
    {
      "cell_type": "code",
      "metadata": {
        "id": "iuhKpV8oYmi4",
        "colab": {
          "base_uri": "https://localhost:8080/"
        },
        "outputId": "57fe53d4-5ae2-466d-81c7-7057cf1f60eb"
      },
      "source": [
        "print(normalizer.mean.numpy())"
      ],
      "execution_count": 152,
      "outputs": [
        {
          "output_type": "stream",
          "name": "stdout",
          "text": [
            "[[3.0416382e+02 4.1220333e+01 1.1395197e+01 1.3396046e+01 2.3999435e+01\n",
            "  9.5539641e+04 9.0841164e+04 2.4965744e-01 7.3933911e+00 3.6750097e+00]]\n"
          ]
        }
      ]
    },
    {
      "cell_type": "markdown",
      "metadata": {
        "id": "dHOX6GqR0QuD"
      },
      "source": [
        "##Building the Model\n",
        "Now it's time to build the model! We are going to use a keras *sequential* model with three different layers. This model represents a feed-forward neural network (one that passes values from left to right). We'll break down each layer and its architecture below."
      ]
    },
    {
      "cell_type": "code",
      "metadata": {
        "id": "XDxodHMv0xgG",
        "colab": {
          "base_uri": "https://localhost:8080/"
        },
        "outputId": "4b53d617-032c-4335-c24d-776a43b7c240"
      },
      "source": [
        "model = keras.Sequential([\n",
        "    normalizer,         # input layer (1)\n",
        "    keras.layers.Dense(10, activation='swish'),  # hidden layer (2)\n",
        "    keras.layers.Dense(10, activation='swish'),  # hidden layer (3)\n",
        "    keras.layers.Dense(10, activation='swish'),  # hidden layer (4)\n",
        "    keras.layers.Dense(1) # output layer (3)\n",
        "])\n",
        "model.summary()"
      ],
      "execution_count": 153,
      "outputs": [
        {
          "output_type": "stream",
          "name": "stdout",
          "text": [
            "Model: \"sequential_4\"\n",
            "_________________________________________________________________\n",
            "Layer (type)                 Output Shape              Param #   \n",
            "=================================================================\n",
            "normalization_4 (Normalizati (None, 10)                21        \n",
            "_________________________________________________________________\n",
            "dense_16 (Dense)             (None, 10)                110       \n",
            "_________________________________________________________________\n",
            "dense_17 (Dense)             (None, 10)                110       \n",
            "_________________________________________________________________\n",
            "dense_18 (Dense)             (None, 10)                110       \n",
            "_________________________________________________________________\n",
            "dense_19 (Dense)             (None, 1)                 11        \n",
            "=================================================================\n",
            "Total params: 362\n",
            "Trainable params: 341\n",
            "Non-trainable params: 21\n",
            "_________________________________________________________________\n"
          ]
        }
      ]
    },
    {
      "cell_type": "markdown",
      "metadata": {
        "id": "c-bL-I5w0414"
      },
      "source": [
        "**Layer 1:** Our input layer is a normalization layer which provides data to the model normalized during execution. We use the normalization layer with an input shape of (10,10) to denote that our input should come in in that shape. \n",
        "\n",
        "**Layer 2,3,4:** These are our hidden layers. The *dense* denotes that this layer will be fully connected and each neuron from the previous layer connects to each neuron of this layer. \n",
        "Each hidden layer has  has 100 neurons and uses the swish  activation function \n",
        "\n",
        "`swish(x) = x * sigmoid(x)`\n",
        "\n",
        "**Layer 5:** This is our output later and is also a dense layer. It has 1 neuron that we will look at to determine our models output."
      ]
    },
    {
      "cell_type": "markdown",
      "metadata": {
        "id": "-j1UF9QH21Ex"
      },
      "source": [
        "###Compile the Model\n",
        "\n",
        "Once the model is built, configure the training procedure using the Keras `Model.compile` method. The most important arguments to compile are the `loss` and the `optimizer`, since these define what will be optimized (`mean_absolute_error`) and how (using the `tf.keras.optimizers.Adam`)."
      ]
    },
    {
      "cell_type": "code",
      "metadata": {
        "id": "Msigq4Ja29QX"
      },
      "source": [
        "model.compile(optimizer=tf.keras.optimizers.Adam(learning_rate=0.1),\n",
        "              loss='mean_absolute_error',\n",
        "              metrics = ['mean_squared_error']\n",
        "              )"
      ],
      "execution_count": 154,
      "outputs": []
    },
    {
      "cell_type": "markdown",
      "metadata": {
        "id": "7YYW5V_53OXV"
      },
      "source": [
        "##Training the Model\n",
        "\n",
        "Now it's finally time to train the model. Since we've already done all the work on our data this step is as easy as calling a single method.\n",
        "\n",
        "Having configured the training configured, use Keras `Model.fit` to execute the training for 100 epochs:"
      ]
    },
    {
      "cell_type": "code",
      "metadata": {
        "id": "XmAtc4uI3_C7",
        "colab": {
          "base_uri": "https://localhost:8080/"
        },
        "outputId": "9b9be893-a1db-40f5-cea7-d769aaac9040"
      },
      "source": [
        "model.fit(X_train, y_train, batch_size= 128 ,epochs=100,validation_split = 0.1)  # we pass the data, labels and epochs"
      ],
      "execution_count": 155,
      "outputs": [
        {
          "output_type": "stream",
          "name": "stdout",
          "text": [
            "Epoch 1/100\n",
            "2/2 [==============================] - 1s 186ms/step - loss: 51654.1367 - mean_squared_error: 3096751872.0000 - val_loss: 52500.9180 - val_mean_squared_error: 3213523200.0000\n",
            "Epoch 2/100\n",
            "2/2 [==============================] - 0s 21ms/step - loss: 51646.1250 - mean_squared_error: 3096205824.0000 - val_loss: 52475.9844 - val_mean_squared_error: 3211820032.0000\n",
            "Epoch 3/100\n",
            "2/2 [==============================] - 0s 21ms/step - loss: 51612.0938 - mean_squared_error: 3093620736.0000 - val_loss: 52400.4336 - val_mean_squared_error: 3206633216.0000\n",
            "Epoch 4/100\n",
            "2/2 [==============================] - 0s 20ms/step - loss: 51520.8047 - mean_squared_error: 3086178560.0000 - val_loss: 52219.3203 - val_mean_squared_error: 3194209024.0000\n",
            "Epoch 5/100\n",
            "2/2 [==============================] - 0s 21ms/step - loss: 51296.7734 - mean_squared_error: 3069550336.0000 - val_loss: 51840.0508 - val_mean_squared_error: 3168151552.0000\n",
            "Epoch 6/100\n",
            "2/2 [==============================] - 0s 23ms/step - loss: 50869.8594 - mean_squared_error: 3037093120.0000 - val_loss: 51117.0469 - val_mean_squared_error: 3118532096.0000\n",
            "Epoch 7/100\n",
            "2/2 [==============================] - 0s 22ms/step - loss: 50065.8984 - mean_squared_error: 2975223552.0000 - val_loss: 49868.5234 - val_mean_squared_error: 3033510400.0000\n",
            "Epoch 8/100\n",
            "2/2 [==============================] - 0s 21ms/step - loss: 48800.0430 - mean_squared_error: 2870654208.0000 - val_loss: 48571.0117 - val_mean_squared_error: 2902781696.0000\n",
            "Epoch 9/100\n",
            "2/2 [==============================] - 0s 20ms/step - loss: 47026.8047 - mean_squared_error: 2720331776.0000 - val_loss: 46807.5781 - val_mean_squared_error: 2721564672.0000\n",
            "Epoch 10/100\n",
            "2/2 [==============================] - 0s 22ms/step - loss: 44930.7852 - mean_squared_error: 2503147520.0000 - val_loss: 45403.5664 - val_mean_squared_error: 2503102976.0000\n",
            "Epoch 11/100\n",
            "2/2 [==============================] - 0s 21ms/step - loss: 42806.5586 - mean_squared_error: 2246694144.0000 - val_loss: 44170.2969 - val_mean_squared_error: 2263233024.0000\n",
            "Epoch 12/100\n",
            "2/2 [==============================] - 0s 20ms/step - loss: 40476.7070 - mean_squared_error: 1982167296.0000 - val_loss: 41082.0820 - val_mean_squared_error: 1946333056.0000\n",
            "Epoch 13/100\n",
            "2/2 [==============================] - 0s 21ms/step - loss: 37142.9375 - mean_squared_error: 1673829120.0000 - val_loss: 36037.4336 - val_mean_squared_error: 1522070528.0000\n",
            "Epoch 14/100\n",
            "2/2 [==============================] - 0s 20ms/step - loss: 32025.4922 - mean_squared_error: 1288845952.0000 - val_loss: 28572.5840 - val_mean_squared_error: 1046663040.0000\n",
            "Epoch 15/100\n",
            "2/2 [==============================] - 0s 22ms/step - loss: 26093.6699 - mean_squared_error: 952241408.0000 - val_loss: 21828.9512 - val_mean_squared_error: 677858880.0000\n",
            "Epoch 16/100\n",
            "2/2 [==============================] - 0s 20ms/step - loss: 21727.0156 - mean_squared_error: 826899072.0000 - val_loss: 20402.8359 - val_mean_squared_error: 639943424.0000\n",
            "Epoch 17/100\n",
            "2/2 [==============================] - 0s 22ms/step - loss: 22974.7949 - mean_squared_error: 985312128.0000 - val_loss: 20398.9941 - val_mean_squared_error: 668034176.0000\n",
            "Epoch 18/100\n",
            "2/2 [==============================] - 0s 22ms/step - loss: 22508.4727 - mean_squared_error: 975163968.0000 - val_loss: 17214.0742 - val_mean_squared_error: 495110848.0000\n",
            "Epoch 19/100\n",
            "2/2 [==============================] - 0s 21ms/step - loss: 19156.8262 - mean_squared_error: 737180416.0000 - val_loss: 13897.8848 - val_mean_squared_error: 341205376.0000\n",
            "Epoch 20/100\n",
            "2/2 [==============================] - 0s 21ms/step - loss: 16655.3438 - mean_squared_error: 542742976.0000 - val_loss: 13252.3643 - val_mean_squared_error: 327214368.0000\n",
            "Epoch 21/100\n",
            "2/2 [==============================] - 0s 21ms/step - loss: 16616.0000 - mean_squared_error: 507142944.0000 - val_loss: 13408.0430 - val_mean_squared_error: 310917600.0000\n",
            "Epoch 22/100\n",
            "2/2 [==============================] - 0s 23ms/step - loss: 16125.2168 - mean_squared_error: 476795232.0000 - val_loss: 10789.9404 - val_mean_squared_error: 238221456.0000\n",
            "Epoch 23/100\n",
            "2/2 [==============================] - 0s 44ms/step - loss: 14336.9844 - mean_squared_error: 418825216.0000 - val_loss: 10392.7461 - val_mean_squared_error: 193437216.0000\n",
            "Epoch 24/100\n",
            "2/2 [==============================] - 0s 29ms/step - loss: 13180.4033 - mean_squared_error: 400663072.0000 - val_loss: 11650.9668 - val_mean_squared_error: 206577136.0000\n",
            "Epoch 25/100\n",
            "2/2 [==============================] - 0s 22ms/step - loss: 12818.1748 - mean_squared_error: 393629792.0000 - val_loss: 10143.6289 - val_mean_squared_error: 167317728.0000\n",
            "Epoch 26/100\n",
            "2/2 [==============================] - 0s 24ms/step - loss: 11331.7412 - mean_squared_error: 331829792.0000 - val_loss: 7943.6831 - val_mean_squared_error: 136008640.0000\n",
            "Epoch 27/100\n",
            "2/2 [==============================] - 0s 29ms/step - loss: 10829.0117 - mean_squared_error: 287287648.0000 - val_loss: 8208.4082 - val_mean_squared_error: 134742832.0000\n",
            "Epoch 28/100\n",
            "2/2 [==============================] - 0s 23ms/step - loss: 10455.3770 - mean_squared_error: 266786752.0000 - val_loss: 7345.3560 - val_mean_squared_error: 111942536.0000\n",
            "Epoch 29/100\n",
            "2/2 [==============================] - 0s 24ms/step - loss: 9566.0322 - mean_squared_error: 245081920.0000 - val_loss: 7035.1348 - val_mean_squared_error: 97636672.0000\n",
            "Epoch 30/100\n",
            "2/2 [==============================] - 0s 23ms/step - loss: 9180.2363 - mean_squared_error: 243124432.0000 - val_loss: 7076.9263 - val_mean_squared_error: 88824928.0000\n",
            "Epoch 31/100\n",
            "2/2 [==============================] - 0s 22ms/step - loss: 8775.1377 - mean_squared_error: 226042624.0000 - val_loss: 6087.1729 - val_mean_squared_error: 67469872.0000\n",
            "Epoch 32/100\n",
            "2/2 [==============================] - 0s 21ms/step - loss: 8113.3325 - mean_squared_error: 205913248.0000 - val_loss: 7005.8115 - val_mean_squared_error: 75872328.0000\n",
            "Epoch 33/100\n",
            "2/2 [==============================] - 0s 25ms/step - loss: 8100.4912 - mean_squared_error: 209023200.0000 - val_loss: 6706.3345 - val_mean_squared_error: 66117364.0000\n",
            "Epoch 34/100\n",
            "2/2 [==============================] - 0s 24ms/step - loss: 7807.2549 - mean_squared_error: 201018464.0000 - val_loss: 5726.7358 - val_mean_squared_error: 53258568.0000\n",
            "Epoch 35/100\n",
            "2/2 [==============================] - 0s 25ms/step - loss: 7831.1240 - mean_squared_error: 213353616.0000 - val_loss: 5522.9458 - val_mean_squared_error: 55483300.0000\n",
            "Epoch 36/100\n",
            "2/2 [==============================] - 0s 22ms/step - loss: 7711.7275 - mean_squared_error: 219785680.0000 - val_loss: 6060.6099 - val_mean_squared_error: 59369288.0000\n",
            "Epoch 37/100\n",
            "2/2 [==============================] - 0s 24ms/step - loss: 7614.4595 - mean_squared_error: 208205328.0000 - val_loss: 6859.6860 - val_mean_squared_error: 67849368.0000\n",
            "Epoch 38/100\n",
            "2/2 [==============================] - 0s 21ms/step - loss: 7635.4614 - mean_squared_error: 206980256.0000 - val_loss: 6109.5435 - val_mean_squared_error: 63000516.0000\n",
            "Epoch 39/100\n",
            "2/2 [==============================] - 0s 23ms/step - loss: 7499.8188 - mean_squared_error: 213482304.0000 - val_loss: 5686.4600 - val_mean_squared_error: 60330532.0000\n",
            "Epoch 40/100\n",
            "2/2 [==============================] - 0s 23ms/step - loss: 7402.0679 - mean_squared_error: 212773712.0000 - val_loss: 5646.5957 - val_mean_squared_error: 56895320.0000\n",
            "Epoch 41/100\n",
            "2/2 [==============================] - 0s 24ms/step - loss: 7270.1753 - mean_squared_error: 205151840.0000 - val_loss: 5615.1338 - val_mean_squared_error: 56667652.0000\n",
            "Epoch 42/100\n",
            "2/2 [==============================] - 0s 33ms/step - loss: 7122.2627 - mean_squared_error: 197576624.0000 - val_loss: 5425.0776 - val_mean_squared_error: 56820176.0000\n",
            "Epoch 43/100\n",
            "2/2 [==============================] - 0s 21ms/step - loss: 7071.5234 - mean_squared_error: 194741264.0000 - val_loss: 5364.1064 - val_mean_squared_error: 56758924.0000\n",
            "Epoch 44/100\n",
            "2/2 [==============================] - 0s 30ms/step - loss: 7098.1416 - mean_squared_error: 198099504.0000 - val_loss: 5373.3477 - val_mean_squared_error: 57130552.0000\n",
            "Epoch 45/100\n",
            "2/2 [==============================] - 0s 22ms/step - loss: 7017.7783 - mean_squared_error: 196191872.0000 - val_loss: 5679.7798 - val_mean_squared_error: 57994592.0000\n",
            "Epoch 46/100\n",
            "2/2 [==============================] - 0s 20ms/step - loss: 7017.5620 - mean_squared_error: 188958416.0000 - val_loss: 5788.4219 - val_mean_squared_error: 58361176.0000\n",
            "Epoch 47/100\n",
            "2/2 [==============================] - 0s 21ms/step - loss: 6945.1860 - mean_squared_error: 190343872.0000 - val_loss: 5502.2373 - val_mean_squared_error: 57295404.0000\n",
            "Epoch 48/100\n",
            "2/2 [==============================] - 0s 23ms/step - loss: 7006.6094 - mean_squared_error: 198925088.0000 - val_loss: 5560.6216 - val_mean_squared_error: 57118020.0000\n",
            "Epoch 49/100\n",
            "2/2 [==============================] - 0s 23ms/step - loss: 6909.0967 - mean_squared_error: 194392448.0000 - val_loss: 5672.2529 - val_mean_squared_error: 56900396.0000\n",
            "Epoch 50/100\n",
            "2/2 [==============================] - 0s 24ms/step - loss: 6860.8750 - mean_squared_error: 189961952.0000 - val_loss: 5286.9756 - val_mean_squared_error: 54336720.0000\n",
            "Epoch 51/100\n",
            "2/2 [==============================] - 0s 25ms/step - loss: 6743.5557 - mean_squared_error: 194189088.0000 - val_loss: 5240.3574 - val_mean_squared_error: 54911300.0000\n",
            "Epoch 52/100\n",
            "2/2 [==============================] - 0s 21ms/step - loss: 6827.0415 - mean_squared_error: 200321712.0000 - val_loss: 5309.8765 - val_mean_squared_error: 54996196.0000\n",
            "Epoch 53/100\n",
            "2/2 [==============================] - 0s 22ms/step - loss: 6753.2598 - mean_squared_error: 193635168.0000 - val_loss: 5544.2749 - val_mean_squared_error: 55679288.0000\n",
            "Epoch 54/100\n",
            "2/2 [==============================] - 0s 22ms/step - loss: 6729.0356 - mean_squared_error: 189346032.0000 - val_loss: 5231.3135 - val_mean_squared_error: 54640296.0000\n",
            "Epoch 55/100\n",
            "2/2 [==============================] - 0s 21ms/step - loss: 6941.3804 - mean_squared_error: 202792640.0000 - val_loss: 5213.7603 - val_mean_squared_error: 54697720.0000\n",
            "Epoch 56/100\n",
            "2/2 [==============================] - 0s 23ms/step - loss: 6821.9517 - mean_squared_error: 192855712.0000 - val_loss: 5791.6821 - val_mean_squared_error: 58231620.0000\n",
            "Epoch 57/100\n",
            "2/2 [==============================] - 0s 21ms/step - loss: 6768.0181 - mean_squared_error: 184840384.0000 - val_loss: 5143.1089 - val_mean_squared_error: 55195564.0000\n",
            "Epoch 58/100\n",
            "2/2 [==============================] - 0s 21ms/step - loss: 6743.6221 - mean_squared_error: 197000768.0000 - val_loss: 5193.0371 - val_mean_squared_error: 56039856.0000\n",
            "Epoch 59/100\n",
            "2/2 [==============================] - 0s 22ms/step - loss: 6677.5591 - mean_squared_error: 192289344.0000 - val_loss: 5730.8247 - val_mean_squared_error: 58962944.0000\n",
            "Epoch 60/100\n",
            "2/2 [==============================] - 0s 22ms/step - loss: 6700.6025 - mean_squared_error: 183516880.0000 - val_loss: 5384.4551 - val_mean_squared_error: 55526596.0000\n",
            "Epoch 61/100\n",
            "2/2 [==============================] - 0s 23ms/step - loss: 6657.2720 - mean_squared_error: 188550464.0000 - val_loss: 5202.1304 - val_mean_squared_error: 55725720.0000\n",
            "Epoch 62/100\n",
            "2/2 [==============================] - 0s 23ms/step - loss: 6604.7256 - mean_squared_error: 190382944.0000 - val_loss: 5535.9644 - val_mean_squared_error: 57146924.0000\n",
            "Epoch 63/100\n",
            "2/2 [==============================] - 0s 22ms/step - loss: 6633.6772 - mean_squared_error: 183943440.0000 - val_loss: 5341.8623 - val_mean_squared_error: 55533476.0000\n",
            "Epoch 64/100\n",
            "2/2 [==============================] - 0s 23ms/step - loss: 6696.3247 - mean_squared_error: 191274496.0000 - val_loss: 5062.7573 - val_mean_squared_error: 55503292.0000\n",
            "Epoch 65/100\n",
            "2/2 [==============================] - 0s 26ms/step - loss: 6637.8071 - mean_squared_error: 194319472.0000 - val_loss: 5378.2202 - val_mean_squared_error: 55341572.0000\n",
            "Epoch 66/100\n",
            "2/2 [==============================] - 0s 22ms/step - loss: 6575.3062 - mean_squared_error: 183286816.0000 - val_loss: 5522.6719 - val_mean_squared_error: 56427892.0000\n",
            "Epoch 67/100\n",
            "2/2 [==============================] - 0s 22ms/step - loss: 6554.3584 - mean_squared_error: 183297856.0000 - val_loss: 5126.8423 - val_mean_squared_error: 54131940.0000\n",
            "Epoch 68/100\n",
            "2/2 [==============================] - 0s 31ms/step - loss: 6537.7524 - mean_squared_error: 191035568.0000 - val_loss: 5050.6719 - val_mean_squared_error: 54831976.0000\n",
            "Epoch 69/100\n",
            "2/2 [==============================] - 0s 37ms/step - loss: 6528.2607 - mean_squared_error: 188463312.0000 - val_loss: 5381.3135 - val_mean_squared_error: 56325328.0000\n",
            "Epoch 70/100\n",
            "2/2 [==============================] - 0s 21ms/step - loss: 6542.3682 - mean_squared_error: 184164000.0000 - val_loss: 5332.5894 - val_mean_squared_error: 55176792.0000\n",
            "Epoch 71/100\n",
            "2/2 [==============================] - 0s 23ms/step - loss: 6474.9673 - mean_squared_error: 187259968.0000 - val_loss: 5162.0786 - val_mean_squared_error: 55702520.0000\n",
            "Epoch 72/100\n",
            "2/2 [==============================] - 0s 22ms/step - loss: 6525.4634 - mean_squared_error: 192448880.0000 - val_loss: 5348.9590 - val_mean_squared_error: 56558168.0000\n",
            "Epoch 73/100\n",
            "2/2 [==============================] - 0s 23ms/step - loss: 6499.1704 - mean_squared_error: 186517264.0000 - val_loss: 5406.7104 - val_mean_squared_error: 56488280.0000\n",
            "Epoch 74/100\n",
            "2/2 [==============================] - 0s 20ms/step - loss: 6492.5166 - mean_squared_error: 187832112.0000 - val_loss: 5104.2173 - val_mean_squared_error: 54978180.0000\n",
            "Epoch 75/100\n",
            "2/2 [==============================] - 0s 24ms/step - loss: 6544.4331 - mean_squared_error: 191405424.0000 - val_loss: 5149.7559 - val_mean_squared_error: 54615100.0000\n",
            "Epoch 76/100\n",
            "2/2 [==============================] - 0s 25ms/step - loss: 6487.0391 - mean_squared_error: 184006368.0000 - val_loss: 5494.8340 - val_mean_squared_error: 58224060.0000\n",
            "Epoch 77/100\n",
            "2/2 [==============================] - 0s 28ms/step - loss: 6533.9980 - mean_squared_error: 185909152.0000 - val_loss: 5437.2197 - val_mean_squared_error: 58309904.0000\n",
            "Epoch 78/100\n",
            "2/2 [==============================] - 0s 31ms/step - loss: 6524.5015 - mean_squared_error: 191339392.0000 - val_loss: 5230.9644 - val_mean_squared_error: 57328692.0000\n",
            "Epoch 79/100\n",
            "2/2 [==============================] - 0s 23ms/step - loss: 6590.2007 - mean_squared_error: 188776640.0000 - val_loss: 5347.6758 - val_mean_squared_error: 56177124.0000\n",
            "Epoch 80/100\n",
            "2/2 [==============================] - 0s 30ms/step - loss: 6604.8198 - mean_squared_error: 184389296.0000 - val_loss: 5172.0044 - val_mean_squared_error: 55465112.0000\n",
            "Epoch 81/100\n",
            "2/2 [==============================] - 0s 22ms/step - loss: 6503.5068 - mean_squared_error: 186682672.0000 - val_loss: 5533.3716 - val_mean_squared_error: 59047180.0000\n",
            "Epoch 82/100\n",
            "2/2 [==============================] - 0s 24ms/step - loss: 6564.3169 - mean_squared_error: 183403824.0000 - val_loss: 5688.7563 - val_mean_squared_error: 59243144.0000\n",
            "Epoch 83/100\n",
            "2/2 [==============================] - 0s 26ms/step - loss: 6664.9556 - mean_squared_error: 188285968.0000 - val_loss: 5303.5781 - val_mean_squared_error: 58235948.0000\n",
            "Epoch 84/100\n",
            "2/2 [==============================] - 0s 22ms/step - loss: 6671.8770 - mean_squared_error: 191281072.0000 - val_loss: 5531.0571 - val_mean_squared_error: 60400464.0000\n",
            "Epoch 85/100\n",
            "2/2 [==============================] - 0s 25ms/step - loss: 6535.8638 - mean_squared_error: 183819616.0000 - val_loss: 5612.0820 - val_mean_squared_error: 57720664.0000\n",
            "Epoch 86/100\n",
            "2/2 [==============================] - 0s 25ms/step - loss: 6701.3257 - mean_squared_error: 182545840.0000 - val_loss: 5306.7393 - val_mean_squared_error: 56654944.0000\n",
            "Epoch 87/100\n",
            "2/2 [==============================] - 0s 27ms/step - loss: 6539.9429 - mean_squared_error: 186934864.0000 - val_loss: 5387.2930 - val_mean_squared_error: 58291316.0000\n",
            "Epoch 88/100\n",
            "2/2 [==============================] - 0s 23ms/step - loss: 6517.5977 - mean_squared_error: 185057296.0000 - val_loss: 5535.0308 - val_mean_squared_error: 58231692.0000\n",
            "Epoch 89/100\n",
            "2/2 [==============================] - 0s 25ms/step - loss: 6659.6523 - mean_squared_error: 184482976.0000 - val_loss: 5384.5894 - val_mean_squared_error: 57377692.0000\n",
            "Epoch 90/100\n",
            "2/2 [==============================] - 0s 29ms/step - loss: 6405.1909 - mean_squared_error: 183151600.0000 - val_loss: 5381.4590 - val_mean_squared_error: 58519000.0000\n",
            "Epoch 91/100\n",
            "2/2 [==============================] - 0s 21ms/step - loss: 6459.9697 - mean_squared_error: 183239104.0000 - val_loss: 5216.4761 - val_mean_squared_error: 55952820.0000\n",
            "Epoch 92/100\n",
            "2/2 [==============================] - 0s 22ms/step - loss: 6630.5610 - mean_squared_error: 188844368.0000 - val_loss: 5147.1421 - val_mean_squared_error: 55626240.0000\n",
            "Epoch 93/100\n",
            "2/2 [==============================] - 0s 23ms/step - loss: 6466.9771 - mean_squared_error: 183161616.0000 - val_loss: 5697.4897 - val_mean_squared_error: 61168244.0000\n",
            "Epoch 94/100\n",
            "2/2 [==============================] - 0s 22ms/step - loss: 6471.8672 - mean_squared_error: 179554688.0000 - val_loss: 5311.5488 - val_mean_squared_error: 56047264.0000\n",
            "Epoch 95/100\n",
            "2/2 [==============================] - 0s 22ms/step - loss: 6466.5601 - mean_squared_error: 189546496.0000 - val_loss: 4989.1387 - val_mean_squared_error: 56117864.0000\n",
            "Epoch 96/100\n",
            "2/2 [==============================] - 0s 22ms/step - loss: 6410.2500 - mean_squared_error: 190232720.0000 - val_loss: 5200.9683 - val_mean_squared_error: 54981720.0000\n",
            "Epoch 97/100\n",
            "2/2 [==============================] - 0s 25ms/step - loss: 6418.3711 - mean_squared_error: 179052160.0000 - val_loss: 5665.0581 - val_mean_squared_error: 60183832.0000\n",
            "Epoch 98/100\n",
            "2/2 [==============================] - 0s 23ms/step - loss: 6450.2578 - mean_squared_error: 177851520.0000 - val_loss: 5003.9390 - val_mean_squared_error: 53839772.0000\n",
            "Epoch 99/100\n",
            "2/2 [==============================] - 0s 27ms/step - loss: 6355.7314 - mean_squared_error: 185026288.0000 - val_loss: 4947.6777 - val_mean_squared_error: 54591556.0000\n",
            "Epoch 100/100\n",
            "2/2 [==============================] - 0s 23ms/step - loss: 6388.9990 - mean_squared_error: 183142384.0000 - val_loss: 5246.8013 - val_mean_squared_error: 56411640.0000\n"
          ]
        },
        {
          "output_type": "execute_result",
          "data": {
            "text/plain": [
              "<keras.callbacks.History at 0x7f0ea3f43a10>"
            ]
          },
          "metadata": {},
          "execution_count": 155
        }
      ]
    },
    {
      "cell_type": "markdown",
      "metadata": {
        "id": "y6SRtNcF4K1O"
      },
      "source": [
        "##Evaluating the Model\n",
        "Now it's time to test/evaluate the model. We can do this quite easily using another builtin method from keras.\n",
        "\n",
        "The *verbose* argument is defined from the keras documentation as:\n",
        "\"verbose: 0 or 1. Verbosity mode. 0 = silent, 1 = progress bar.\"\n"
      ]
    },
    {
      "cell_type": "code",
      "metadata": {
        "id": "WqI0FEO54XN1",
        "colab": {
          "base_uri": "https://localhost:8080/"
        },
        "outputId": "df424d3f-cc05-43bd-f1db-0ca66fbccb27"
      },
      "source": [
        "test_loss, test_acc = model.evaluate(X_test,  y_test, verbose=1) "
      ],
      "execution_count": 156,
      "outputs": [
        {
          "output_type": "stream",
          "name": "stdout",
          "text": [
            "3/3 [==============================] - 0s 3ms/step - loss: 7508.5244 - mean_squared_error: 107133096.0000\n"
          ]
        }
      ]
    },
    {
      "cell_type": "markdown",
      "metadata": {
        "id": "Pv0XpgwJ7GlW"
      },
      "source": [
        "##Making Predictions\n",
        "To make predictions we simply need to pass an array of data in the form we've specified in the input layer to ```.predict()``` method."
      ]
    },
    {
      "cell_type": "code",
      "metadata": {
        "id": "BMAkNWii7Ufj",
        "colab": {
          "base_uri": "https://localhost:8080/"
        },
        "outputId": "b83e6ec5-53aa-4a5f-d75f-9d40737be2de"
      },
      "source": [
        "predictions = model.predict(X_test)"
      ],
      "execution_count": 157,
      "outputs": [
        {
          "output_type": "stream",
          "name": "stdout",
          "text": [
            "WARNING:tensorflow:5 out of the last 13 calls to <function Model.make_predict_function.<locals>.predict_function at 0x7f0ea3db4b00> triggered tf.function retracing. Tracing is expensive and the excessive number of tracings could be due to (1) creating @tf.function repeatedly in a loop, (2) passing tensors with different shapes, (3) passing Python objects instead of tensors. For (1), please define your @tf.function outside of the loop. For (2), @tf.function has experimental_relax_shapes=True option that relaxes argument shapes that can avoid unnecessary retracing. For (3), please refer to https://www.tensorflow.org/guide/function#controlling_retracing and https://www.tensorflow.org/api_docs/python/tf/function for  more details.\n"
          ]
        }
      ]
    },
    {
      "cell_type": "markdown",
      "metadata": {
        "id": "UN7z4YLS6h_w"
      },
      "source": [
        "Converting dataframe to NumPy array for combining both the predicted and real data"
      ]
    },
    {
      "cell_type": "code",
      "metadata": {
        "id": "E8SwWT3XwKK1"
      },
      "source": [
        "real = y_test.to_numpy()"
      ],
      "execution_count": 158,
      "outputs": []
    },
    {
      "cell_type": "markdown",
      "metadata": {
        "id": "9fI_TP-96Ukz"
      },
      "source": [
        "Reshaping the test data to the same of predicted data"
      ]
    },
    {
      "cell_type": "code",
      "metadata": {
        "id": "vBFSh33A6fIV"
      },
      "source": [
        "real= real.reshape(predictions.shape)"
      ],
      "execution_count": 159,
      "outputs": []
    },
    {
      "cell_type": "markdown",
      "metadata": {
        "id": "DDdvrYHR6KD9"
      },
      "source": [
        "Combining both the predicted values and the actual values for a side-by-side comparison"
      ]
    },
    {
      "cell_type": "code",
      "metadata": {
        "id": "5tTo9iVEvdzv",
        "colab": {
          "base_uri": "https://localhost:8080/",
          "height": 424
        },
        "outputId": "67ce4651-2100-4f58-ec64-beaa336e3f8b"
      },
      "source": [
        "results = pd.DataFrame(predictions,columns = ['Predicted'])\n",
        "results['Real'] = real\n",
        "results"
      ],
      "execution_count": 160,
      "outputs": [
        {
          "output_type": "execute_result",
          "data": {
            "text/html": [
              "<div>\n",
              "<style scoped>\n",
              "    .dataframe tbody tr th:only-of-type {\n",
              "        vertical-align: middle;\n",
              "    }\n",
              "\n",
              "    .dataframe tbody tr th {\n",
              "        vertical-align: top;\n",
              "    }\n",
              "\n",
              "    .dataframe thead th {\n",
              "        text-align: right;\n",
              "    }\n",
              "</style>\n",
              "<table border=\"1\" class=\"dataframe\">\n",
              "  <thead>\n",
              "    <tr style=\"text-align: right;\">\n",
              "      <th></th>\n",
              "      <th>Predicted</th>\n",
              "      <th>Real</th>\n",
              "    </tr>\n",
              "  </thead>\n",
              "  <tbody>\n",
              "    <tr>\n",
              "      <th>0</th>\n",
              "      <td>58618.039062</td>\n",
              "      <td>48600.0</td>\n",
              "    </tr>\n",
              "    <tr>\n",
              "      <th>1</th>\n",
              "      <td>60504.183594</td>\n",
              "      <td>72240.0</td>\n",
              "    </tr>\n",
              "    <tr>\n",
              "      <th>2</th>\n",
              "      <td>19432.945312</td>\n",
              "      <td>10780.0</td>\n",
              "    </tr>\n",
              "    <tr>\n",
              "      <th>3</th>\n",
              "      <td>55175.824219</td>\n",
              "      <td>41184.0</td>\n",
              "    </tr>\n",
              "    <tr>\n",
              "      <th>4</th>\n",
              "      <td>65485.500000</td>\n",
              "      <td>72240.0</td>\n",
              "    </tr>\n",
              "    <tr>\n",
              "      <th>...</th>\n",
              "      <td>...</td>\n",
              "      <td>...</td>\n",
              "    </tr>\n",
              "    <tr>\n",
              "      <th>66</th>\n",
              "      <td>9807.993164</td>\n",
              "      <td>12600.0</td>\n",
              "    </tr>\n",
              "    <tr>\n",
              "      <th>67</th>\n",
              "      <td>58448.828125</td>\n",
              "      <td>62920.0</td>\n",
              "    </tr>\n",
              "    <tr>\n",
              "      <th>68</th>\n",
              "      <td>47132.640625</td>\n",
              "      <td>39415.0</td>\n",
              "    </tr>\n",
              "    <tr>\n",
              "      <th>69</th>\n",
              "      <td>68847.812500</td>\n",
              "      <td>72240.0</td>\n",
              "    </tr>\n",
              "    <tr>\n",
              "      <th>70</th>\n",
              "      <td>60290.121094</td>\n",
              "      <td>62920.0</td>\n",
              "    </tr>\n",
              "  </tbody>\n",
              "</table>\n",
              "<p>71 rows × 2 columns</p>\n",
              "</div>"
            ],
            "text/plain": [
              "       Predicted     Real\n",
              "0   58618.039062  48600.0\n",
              "1   60504.183594  72240.0\n",
              "2   19432.945312  10780.0\n",
              "3   55175.824219  41184.0\n",
              "4   65485.500000  72240.0\n",
              "..           ...      ...\n",
              "66   9807.993164  12600.0\n",
              "67  58448.828125  62920.0\n",
              "68  47132.640625  39415.0\n",
              "69  68847.812500  72240.0\n",
              "70  60290.121094  62920.0\n",
              "\n",
              "[71 rows x 2 columns]"
            ]
          },
          "metadata": {},
          "execution_count": 160
        }
      ]
    },
    {
      "cell_type": "markdown",
      "metadata": {
        "id": "LmRgxuEc7Xjc"
      },
      "source": [
        "# Remarks\n",
        "\n",
        "We have tried to implement the approach followed in the paper with modifications based on the constraints we faced. But as you can see the model is far from predicting accurate values. \n",
        "\n",
        "There are some specific factors that contribute to this:\n",
        "\n",
        "1. The dataset used in the paper isn't accessible or present in the internet since those readings were generated in labs. Therefore recreating the same results isn't possible. Therefore, we had to scrape data from a website which also doesn't provide us with a big dataset.\n",
        "2. The real world data collected isn't sufficient enough in terms of attributes needed for the model (i.e., variables such as block coefficient  `Cb` and Waterplane Area Coefficient  `Cw` aren't available to use and can't be calculated with the given dataset)\n",
        "3. Removal of outliers hasn't been done because of the small dataset that is available to us.\n",
        "\n",
        "With better quality and quantity of data, we can however achieve better results than that of achived here. This just shows how such simple models can be used for solving complex problems in real-time and how we could exploit its advantage for development of the field."
      ]
    }
  ]
}